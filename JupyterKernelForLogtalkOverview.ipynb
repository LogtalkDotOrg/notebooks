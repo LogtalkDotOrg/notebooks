{
 "cells": [
  {
   "cell_type": "markdown",
   "id": "44e0933b",
   "metadata": {
    "tags": []
   },
   "source": [
    "# A Jupyter Kernel for Logtalk\n",
    "\n",
    "This notebook provides an overview of the functionality and implementation of the Logtalk Jupyter kernel.\n",
    "\n",
    "Running this notebook assumes Logtalk is installed using one of the provided installers or by running the manual installation script.\n",
    "\n",
    "The default backend can be changed in the fly by adding a code cell at the top and running one of the following queries: `eclipse`, `gnu`, `sicstus`, `swi`, `trealla`, `xvm`, or `yap` (assuming that all these backend Prolog systems are installed). The default backend can be set for all notebooks in a directory by using a `logtalk_kernel_config.py` file (see the [logtalk-jupyter-kernel](https://github.com/LogtalkDotOrg/logtalk-jupyter-kernel) repo for details). If this file is not present, the default backend is SWI-Prolog.\n",
    "\n",
    "This notebook is currently running using:"
   ]
  },
  {
   "cell_type": "code",
   "execution_count": null,
   "id": "31fe8179",
   "metadata": {
    "vscode": {
     "languageId": "logtalk"
    }
   },
   "outputs": [],
   "source": [
    "%versions"
   ]
  },
  {
   "cell_type": "markdown",
   "id": "235f081f",
   "metadata": {},
   "source": [
    "## Execute Queries\n",
    "\n",
    "Code cells can contain queries, multiple terms to be interpreted as directives and clauses to be added to a file, or code to be highlighted. By default, the contents of a code cell is interpreted as a query. For example:"
   ]
  },
  {
   "cell_type": "code",
   "execution_count": null,
   "id": "94c585eb",
   "metadata": {
    "tags": [],
    "vscode": {
     "languageId": "logtalk"
    }
   },
   "outputs": [],
   "source": [
    "current_logtalk_flag(version_data, VersionData)."
   ]
  },
  {
   "cell_type": "code",
   "execution_count": null,
   "id": "0e2c194d",
   "metadata": {
    "tags": [],
    "vscode": {
     "languageId": "logtalk"
    }
   },
   "outputs": [],
   "source": [
    "X = [1,2,3], list::append(X, [4,5,6], Z)."
   ]
  },
  {
   "cell_type": "markdown",
   "id": "f1fae0ab-cf79-4f1d-ba12-0af85854cbdc",
   "metadata": {},
   "source": [
    "We can also write multiple queries in a single cell:"
   ]
  },
  {
   "cell_type": "code",
   "execution_count": null,
   "id": "6774b322-5c98-467e-aa09-5af08f3baefe",
   "metadata": {
    "vscode": {
     "languageId": "logtalk"
    }
   },
   "outputs": [],
   "source": [
    "current_logtalk_flag(unicode, Unicode).\n",
    "current_logtalk_flag(encoding_directive, EncodingDirective)."
   ]
  },
  {
   "cell_type": "markdown",
   "id": "8afd42d3",
   "metadata": {},
   "source": [
    "## Access and Reuse Query Bindings\n",
    "\n",
    "The variable bindings from previous queries can be accessed by using the `%bindings` line magic:"
   ]
  },
  {
   "cell_type": "code",
   "execution_count": null,
   "id": "adf87d90",
   "metadata": {
    "vscode": {
     "languageId": "logtalk"
    }
   },
   "outputs": [],
   "source": [
    "%bindings"
   ]
  },
  {
   "cell_type": "markdown",
   "id": "4f8ab82e",
   "metadata": {},
   "source": [
    "Variable bindings can be reused using the corresponding `$Var` term. For example:"
   ]
  },
  {
   "cell_type": "code",
   "execution_count": null,
   "id": "6e854d1a",
   "metadata": {
    "vscode": {
     "languageId": "logtalk"
    }
   },
   "outputs": [],
   "source": [
    "forall(list::member(X, $Z), write(X)).\n"
   ]
  },
  {
   "cell_type": "markdown",
   "id": "d47417af",
   "metadata": {},
   "source": [
    "We can also print the previous queries using the `%queries` line magic:"
   ]
  },
  {
   "cell_type": "code",
   "execution_count": null,
   "id": "0896d3f9",
   "metadata": {
    "vscode": {
     "languageId": "logtalk"
    }
   },
   "outputs": [],
   "source": [
    "%queries"
   ]
  },
  {
   "cell_type": "markdown",
   "id": "f5313ece",
   "metadata": {},
   "source": [
    "## Define Predicates\n",
    "\n",
    "Predicates can be defined in `user` by using the `%%user` cell magic in the first line of a code cell:"
   ]
  },
  {
   "cell_type": "code",
   "execution_count": null,
   "id": "566ce3e6",
   "metadata": {
    "tags": [],
    "vscode": {
     "languageId": "logtalk"
    }
   },
   "outputs": [],
   "source": [
    "%%user\n",
    "\n",
    "my_append([], Res, Res).\n",
    "my_append([H|T], List, [H|Res]) :-\n",
    "  my_append(T, List, Res)."
   ]
  },
  {
   "cell_type": "markdown",
   "id": "eabdf604",
   "metadata": {},
   "source": [
    "Running a code cell defining predicates adds them to the database of the running kernel, making them available for use in queries:"
   ]
  },
  {
   "cell_type": "code",
   "execution_count": null,
   "id": "a181ae15",
   "metadata": {
    "tags": [],
    "vscode": {
     "languageId": "logtalk"
    }
   },
   "outputs": [],
   "source": [
    "my_append([1,2], [3,4], R)."
   ]
  },
  {
   "cell_type": "markdown",
   "id": "5dfcbfd0",
   "metadata": {},
   "source": [
    "Predicate definitions can be split in multiple cells. For example:"
   ]
  },
  {
   "cell_type": "code",
   "execution_count": null,
   "id": "aca6b6dc",
   "metadata": {
    "tags": [],
    "vscode": {
     "languageId": "logtalk"
    }
   },
   "outputs": [],
   "source": [
    "%%user\n",
    "\n",
    "fact(a).\n",
    "fact(b)."
   ]
  },
  {
   "cell_type": "markdown",
   "id": "b24cb3ab",
   "metadata": {},
   "source": [
    "In the next cell, the previous clauses are replaced by new ones:"
   ]
  },
  {
   "cell_type": "code",
   "execution_count": null,
   "id": "be2a0e50",
   "metadata": {
    "vscode": {
     "languageId": "logtalk"
    }
   },
   "outputs": [],
   "source": [
    "%%user\n",
    "\n",
    "fact(c).\n",
    "fact(d)."
   ]
  },
  {
   "cell_type": "code",
   "execution_count": null,
   "id": "6b6b19e4-3ed1-4190-b0b2-e00d739aa8f8",
   "metadata": {
    "vscode": {
     "languageId": "logtalk"
    }
   },
   "outputs": [],
   "source": [
    "findall(X, fact(X), L)."
   ]
  },
  {
   "cell_type": "markdown",
   "id": "75aef399",
   "metadata": {},
   "source": [
    "But new clauses can be added instead by declaring a predicate *discontiguous* and later using instead the `%%user+` cell magic (think of `+` as meaning append):"
   ]
  },
  {
   "cell_type": "code",
   "execution_count": null,
   "id": "16e1b545",
   "metadata": {
    "vscode": {
     "languageId": "logtalk"
    }
   },
   "outputs": [],
   "source": [
    "%%user\n",
    "\n",
    ":- discontiguous(a/1).\n",
    "a(1).\n",
    "a(2)."
   ]
  },
  {
   "cell_type": "code",
   "execution_count": null,
   "id": "35670af2",
   "metadata": {
    "tags": [],
    "vscode": {
     "languageId": "logtalk"
    }
   },
   "outputs": [],
   "source": [
    "%%user+\n",
    "\n",
    "b(3).\n",
    "a(4)."
   ]
  },
  {
   "cell_type": "code",
   "execution_count": null,
   "id": "009dc51b",
   "metadata": {
    "vscode": {
     "languageId": "logtalk"
    }
   },
   "outputs": [],
   "source": [
    "listing(a/1), listing(b/1)."
   ]
  },
  {
   "cell_type": "markdown",
   "id": "3df1363b-16e1-4417-b674-2a667829a41c",
   "metadata": {},
   "source": [
    "## Define Objects, Protocols, and Categories\n",
    "\n",
    "Logtalk entities are preferably defined using the `%%file FILENAME` or `%%file+ FILENAME` cell magic (the `+` variant appends to an existing file instead of redefining it). For example:"
   ]
  },
  {
   "cell_type": "code",
   "execution_count": null,
   "id": "5bd25431-1d38-4f4b-af30-cc4a23cef4e9",
   "metadata": {
    "vscode": {
     "languageId": "logtalk"
    }
   },
   "outputs": [],
   "source": [
    "%%file foo.lgt\n",
    "\n",
    ":- object(foo).\n",
    "\n",
    "    :- public(bar/0).\n",
    "    bar :-\n",
    "        write('Hello world!\\n').\n",
    "\n",
    ":- end_object."
   ]
  },
  {
   "cell_type": "markdown",
   "id": "03eb5229",
   "metadata": {},
   "source": [
    "Running a code cell defining Logtalk entities adds them to the database of the running kernel, making them available for use in queries:"
   ]
  },
  {
   "cell_type": "code",
   "execution_count": null,
   "id": "50806251-0905-4bfa-aa4e-ad2754e7ddb7",
   "metadata": {
    "vscode": {
     "languageId": "logtalk"
    }
   },
   "outputs": [],
   "source": [
    "foo::bar."
   ]
  },
  {
   "cell_type": "markdown",
   "id": "f00af85d",
   "metadata": {},
   "source": [
    "## Highlight Code\n",
    "\n",
    "Sometimes we want to simply display some code in a cell, benefiting from syntax highlight. This can be accomplished by using the `%%highlight` cell magic. For example:"
   ]
  },
  {
   "cell_type": "code",
   "execution_count": null,
   "id": "778d5c36",
   "metadata": {
    "vscode": {
     "languageId": "logtalk"
    }
   },
   "outputs": [],
   "source": [
    "%%highlight\n",
    "\n",
    ":- object(hello_world).\n",
    "\n",
    "\t% the initialization/1 directive argument is automatically executed\n",
    "\t% when the object is loaded into memory:\n",
    "\t:- initialization(write('Hello World!\\n')).\n",
    "\n",
    ":- end_object."
   ]
  },
  {
   "cell_type": "markdown",
   "id": "42ee0669",
   "metadata": {},
   "source": [
    "## Handling Multiple Solutions\n",
    "\n",
    "As a notebook code cell doesn't provide the same interactive features of a traditional top-level interpreter, we can either ask for the next solution for a query in the next cell or, if practical/feasible, ask for all solutions at once."
   ]
  },
  {
   "cell_type": "code",
   "execution_count": null,
   "id": "f4ebf82f",
   "metadata": {
    "vscode": {
     "languageId": "logtalk"
    }
   },
   "outputs": [],
   "source": [
    "list::member(M, [a,b,c])."
   ]
  },
  {
   "cell_type": "code",
   "execution_count": null,
   "id": "182656ba",
   "metadata": {
    "vscode": {
     "languageId": "logtalk"
    }
   },
   "outputs": [],
   "source": [
    "jupyter::retry."
   ]
  },
  {
   "cell_type": "markdown",
   "id": "402730b9-5c9c-4061-8ce8-6ab51c106c7a",
   "metadata": {},
   "source": [
    "We can also simply type:"
   ]
  },
  {
   "cell_type": "code",
   "execution_count": null,
   "id": "3b90f60e-fd3a-49e8-afb1-14bcb7f83e60",
   "metadata": {
    "vscode": {
     "languageId": "logtalk"
    }
   },
   "outputs": [],
   "source": [
    "retry."
   ]
  },
  {
   "cell_type": "markdown",
   "id": "09bc734c",
   "metadata": {},
   "source": [
    "In altenative:"
   ]
  },
  {
   "cell_type": "code",
   "execution_count": null,
   "id": "821d5f2d",
   "metadata": {
    "vscode": {
     "languageId": "logtalk"
    }
   },
   "outputs": [],
   "source": [
    "findall(M, list::member(M, [a,b,c]), L)."
   ]
  },
  {
   "cell_type": "markdown",
   "id": "ad7d975f",
   "metadata": {},
   "source": [
    "See also the `%%table` cell magic below as an alternative to get and report all solutions for a goal."
   ]
  },
  {
   "cell_type": "markdown",
   "id": "fc02e4c7",
   "metadata": {},
   "source": [
    "## Debugging"
   ]
  },
  {
   "cell_type": "markdown",
   "id": "20aa92ea-26f5-4419-b856-5d3f2dd47588",
   "metadata": {},
   "source": [
    "The Logtalk `debugger` tool is loaded by default when we start a kernel. To illustrate, we load an example, compiling it in debug mode:"
   ]
  },
  {
   "cell_type": "code",
   "execution_count": null,
   "id": "bb65b95d-cc52-4272-8902-2b03e3c1b0c6",
   "metadata": {
    "vscode": {
     "languageId": "logtalk"
    }
   },
   "outputs": [],
   "source": [
    "set_logtalk_flag(debug, on), {elephants(loader)}."
   ]
  },
  {
   "cell_type": "markdown",
   "id": "a9835148-2db7-4cc3-adc7-11ac3a90c124",
   "metadata": {},
   "source": [
    "Try one of examples queries:"
   ]
  },
  {
   "cell_type": "code",
   "execution_count": null,
   "id": "65c863bb-1799-4824-ad71-3f0f53a6536c",
   "metadata": {
    "vscode": {
     "languageId": "logtalk"
    }
   },
   "outputs": [],
   "source": [
    "fred::number_of_legs(N)."
   ]
  },
  {
   "cell_type": "markdown",
   "id": "8f39233e-712b-486b-a68a-e7c6880ad203",
   "metadata": {},
   "source": [
    "Debugging cannot be performed interactively. But we can print the trace of a goal:"
   ]
  },
  {
   "cell_type": "code",
   "execution_count": null,
   "id": "11e55ba0",
   "metadata": {
    "vscode": {
     "languageId": "logtalk"
    }
   },
   "outputs": [],
   "source": [
    "debugger::trace, fred::number_of_legs(N), debugger::notrace."
   ]
  },
  {
   "cell_type": "markdown",
   "id": "4e08c34c",
   "metadata": {},
   "source": [
    "We can also use spy points to narrow the debugging output. For example:"
   ]
  },
  {
   "cell_type": "code",
   "execution_count": null,
   "id": "0a81cfc1",
   "metadata": {
    "vscode": {
     "languageId": "logtalk"
    }
   },
   "outputs": [],
   "source": [
    "{planets(loader)}, debugger::spy(gravitational_acceleration/1), mars::weight(m2, W2)."
   ]
  },
  {
   "cell_type": "markdown",
   "id": "f971d443-c47f-42d2-b729-8bec41606815",
   "metadata": {},
   "source": [
    "Turn off debugging and compiling in debug mode:"
   ]
  },
  {
   "cell_type": "code",
   "execution_count": null,
   "id": "fc9f4f09",
   "metadata": {
    "vscode": {
     "languageId": "logtalk"
    }
   },
   "outputs": [],
   "source": [
    "debugger::nodebug, set_logtalk_flag(debug, off)."
   ]
  },
  {
   "cell_type": "markdown",
   "id": "ec9c8e72",
   "metadata": {},
   "source": [
    "## Running Tests\n",
    "\n",
    "Tests can be run by loading their driver file. For example:"
   ]
  },
  {
   "cell_type": "code",
   "execution_count": null,
   "id": "83adb1d7-a886-4a51-aaa0-366a882c545c",
   "metadata": {
    "vscode": {
     "languageId": "logtalk"
    }
   },
   "outputs": [],
   "source": [
    "{ack(tester)}."
   ]
  },
  {
   "cell_type": "markdown",
   "id": "3276c9f1",
   "metadata": {
    "tags": []
   },
   "source": [
    "## Benchmarking Capabilities\n",
    "\n",
    "Whenever a query is executed, its runtime is stored in the database and can be accessed immediately after:"
   ]
  },
  {
   "cell_type": "code",
   "execution_count": null,
   "id": "a4115b4e",
   "metadata": {
    "vscode": {
     "languageId": "logtalk"
    }
   },
   "outputs": [],
   "source": [
    "list::member(M, [1,2,3])."
   ]
  },
  {
   "cell_type": "code",
   "execution_count": null,
   "id": "2af1675d",
   "metadata": {
    "vscode": {
     "languageId": "logtalk"
    }
   },
   "outputs": [],
   "source": [
    "jupyter::print_query_time."
   ]
  },
  {
   "cell_type": "markdown",
   "id": "0a7c9e08",
   "metadata": {},
   "source": [
    "## Structured Output\n",
    "\n",
    "Query bindings can be displayed in a table with a row per solution and a column per variable binding by using the `%%table` cell magic:"
   ]
  },
  {
   "cell_type": "code",
   "execution_count": null,
   "id": "d4c3e970",
   "metadata": {
    "tags": [],
    "vscode": {
     "languageId": "logtalk"
    }
   },
   "outputs": [],
   "source": [
    "%%table\n",
    "list::member(Number, [10,20,30,40]), Square is Number*Number."
   ]
  },
  {
   "cell_type": "markdown",
   "id": "4f70dbad",
   "metadata": {},
   "source": [
    "Columns for variables whose name starts with an underscore are omitted. For example:"
   ]
  },
  {
   "cell_type": "code",
   "execution_count": null,
   "id": "f76cdf0e",
   "metadata": {
    "vscode": {
     "languageId": "logtalk"
    }
   },
   "outputs": [],
   "source": [
    "%%table\n",
    "_List = [10,20,30,40], list::nth1(Position, _List, Element)."
   ]
  },
  {
   "cell_type": "markdown",
   "id": "9e2f7295",
   "metadata": {},
   "source": [
    "To print a table but also save it to a CSV or TSV file, use instead the `%%csv file.csv` or `%%tsv file.tsv` cell magics. For example:"
   ]
  },
  {
   "cell_type": "code",
   "execution_count": null,
   "id": "86a6c9db",
   "metadata": {
    "vscode": {
     "languageId": "logtalk"
    }
   },
   "outputs": [],
   "source": [
    "%%tsv flags.tsv\n",
    "current_logtalk_flag(Flag, Value)."
   ]
  },
  {
   "cell_type": "markdown",
   "id": "f5ec60f9",
   "metadata": {},
   "source": [
    "## Data Visualization\n",
    "\n",
    "Data visualization is available by using the `%%data` cell magic and a goal that binds a variable named `Data` or `_Data` to a list of pairs. The `type` key is required. The other keys depend on the type of visualization. Currently, data visualization can use the `matplotlib.pyplot` plots illustrated next. See the `matplotlib` documentation for the details on plot specific keys. Multiple subplots are not currently supported.\n",
    "\n",
    "- The supported plot keys are `suptitle`, `title`, `xlabel`, `ylabel`, `bar_label`, `xscale`, `yscale`, `xticks`, `yticks`, `xlim`, `ylim`, `margins`, `rc`, `grid`, `thetagrids`, `rgrids`, `autoscale`, `tight_layout`, `legend`, `annotate`, `text`, and `figtext`.\n",
    "- The values of the `suptitle`, `title`, `xlabel` and `ylabel` keys can be either an atom or a list of pairs (in which case, there must be a pair with a `label` key).\n",
    "- The value of the `rc` key must be a list of pairs that includes a pair with a `label` key.\n",
    "- The value of the `annotate` key must be a list of pairs that includes pairs with `text` and `xy` keys.\n",
    "- The values of the `text` and `figtext` keys must be a list of pairs that includes pairs with `x`, `y`, and `s` keys.\n",
    "- The values of the `xticks`, `yticks`, `xlim`, `ylim`, `margins`, `grid`, `thetagrids`, `rgrids`, `autoscale`, `tight_layout`, `legend`, and `bar_level` keys must be a list of pairs.\n",
    "- The atoms `true`, `false`, and `none` can be used to represent the corresponding Python `True`, `False`, and `None` values for plot keywords that require them."
   ]
  },
  {
   "cell_type": "code",
   "execution_count": null,
   "id": "69365d12",
   "metadata": {
    "vscode": {
     "languageId": "logtalk"
    }
   },
   "outputs": [],
   "source": [
    "%%data\n",
    "Data = [type-bar, title-'Bar Graph', x-[10, 20, 30, 40, 50, 60], height-[13, 45, 23, 34, 96, 76], color-dodgerblue, width-5, text-[x-15, y-85, s-'Blue bars!', fontdict-[color-mediumblue, style-italic, size-large]]]."
   ]
  },
  {
   "cell_type": "code",
   "execution_count": null,
   "id": "c2a3a611",
   "metadata": {
    "vscode": {
     "languageId": "logtalk"
    }
   },
   "outputs": [],
   "source": [
    "%%data\n",
    "Data = [type-barh, title-[label-'Horizontal bar graph', fontsize-18], y-['Apples','Oranges','Pears','Mangos'], width-[1,4,9,16], color-[orangered,orange,burlywood,khaki], bar_label-[label_type-center]]"
   ]
  },
  {
   "cell_type": "code",
   "execution_count": null,
   "id": "8f41acea",
   "metadata": {
    "vscode": {
     "languageId": "logtalk"
    }
   },
   "outputs": [],
   "source": [
    "%%data\n",
    "Data = [type-pie, title-'Pie Graph', x-[35, 20, 30, 40, 50, 30], labels-['Apple', 'Bananna', 'Grapes', 'Orange', 'PineApple', 'Dragon Fruit'], autopct-'%.2f%%']."
   ]
  },
  {
   "cell_type": "code",
   "execution_count": null,
   "id": "44c98b9e",
   "metadata": {
    "vscode": {
     "languageId": "logtalk"
    }
   },
   "outputs": [],
   "source": [
    "%%data\n",
    "logtalk_load(random(loader)),\n",
    "random::sequence(1000, -20, 20, _List),\n",
    "_Data = [type-hist, title-'Histogram', x-_List, bins-20, color-skyblue, edgecolor-black, xlabel-[label-'Values', loc-right, color-brown], ylabel-[label-'Frequency', loc-top, color-brown]]."
   ]
  },
  {
   "cell_type": "code",
   "execution_count": null,
   "id": "1225adb1",
   "metadata": {
    "vscode": {
     "languageId": "logtalk"
    }
   },
   "outputs": [],
   "source": [
    "%%data\n",
    "Data = [type-scatter, title-'Scatter plot', x-[5,7,8,7,2,17,2,9,4,11,12,9,6], y-[99,86,87,88,111,86,103,87,94,78,77,85,86], grid-[color-navy, linestyle-'-', linewidth-0.2]]."
   ]
  },
  {
   "cell_type": "code",
   "execution_count": null,
   "id": "b754f6a5",
   "metadata": {
    "vscode": {
     "languageId": "logtalk"
    }
   },
   "outputs": [],
   "source": [
    "%%data\n",
    "Data = [type-plot, title-'Line plot', x-[1,2,3,4], y-[1,4,9,16], xticks-[ticks-[1,2,3,4], labels-[a,b,c,d]], annotate-[text-'Interesting value!', xy-[2,4], xytext-[3,4], arrowprops-[width-1, headwidth-4, facecolor-black, shrink-0.05]]]."
   ]
  },
  {
   "cell_type": "code",
   "execution_count": null,
   "id": "bd7b1b76",
   "metadata": {
    "vscode": {
     "languageId": "logtalk"
    }
   },
   "outputs": [],
   "source": [
    "%%data\n",
    "Data = [type-loglog, title-'Log line plot', x-[1,2,3,4], y-[1,4,9,16]]."
   ]
  },
  {
   "cell_type": "code",
   "execution_count": null,
   "id": "9870a38b",
   "metadata": {
    "vscode": {
     "languageId": "logtalk"
    }
   },
   "outputs": [],
   "source": [
    "%%data\n",
    "logtalk_load(types(loader)),\n",
    "integer::sequence(0, 360, 10, _Xs),\n",
    "findall(Y, (list::member(X,_Xs), Y is sin((X*pi)/180)), _Ys),\n",
    "_Data = [type-stem, title-'Stem plot', x-_Xs, y-_Ys, xlabel-'X (degrees)', ylabel-'sin(X)']."
   ]
  },
  {
   "cell_type": "code",
   "execution_count": null,
   "id": "18ef591a",
   "metadata": {
    "vscode": {
     "languageId": "logtalk"
    }
   },
   "outputs": [],
   "source": [
    "%%data\n",
    "logtalk_load(random(loader)),\n",
    "random::randseq(100, 0.0, 100.0, _Positions),\n",
    "_Data = [type-eventplot, title-'Event plot', positions-_Positions, orientation-vertical, linelengths-1.4, color-cyan]."
   ]
  },
  {
   "cell_type": "code",
   "execution_count": null,
   "id": "574c4730",
   "metadata": {
    "vscode": {
     "languageId": "logtalk"
    }
   },
   "outputs": [],
   "source": [
    "%%data\n",
    "Data = [type-step, title-'Step plot', x-[1, 2, 3, 4, 5], y-[0, 1, 0, 2, 1], xlabel-'Values', ylabel-'Frequency']."
   ]
  },
  {
   "cell_type": "code",
   "execution_count": null,
   "id": "cc7462d7",
   "metadata": {
    "vscode": {
     "languageId": "logtalk"
    }
   },
   "outputs": [],
   "source": [
    "%%data\n",
    "\n",
    "% List of Days\n",
    "Days = [1, 2, 3, 4, 5], \n",
    "% Number of Study Hours\n",
    "Studying = [7, 8, 6, 11, 7],\n",
    "% Number of Playing Hours\n",
    "Playing = [8, 5, 7, 8, 13],\n",
    "% Stack plot with X, Y, colors value\n",
    "Data = [type-stackplot, title-'Stack plot', x-Days, y-[Studying, Playing], labels-['Studying', 'Playing'], legend-[loc-'upper left'], colors-[orange, cyan], xlabel-'Days', ylabel-'No of Hours']."
   ]
  },
  {
   "cell_type": "code",
   "execution_count": null,
   "id": "fffdc788",
   "metadata": {
    "vscode": {
     "languageId": "logtalk"
    }
   },
   "outputs": [],
   "source": [
    "%%data\n",
    "logtalk_load(random(loader)),\n",
    "findall(X, (integer::between(1,200,_), backend_random::random(80.0, 120.0, X)), _Xs),\n",
    "findall(Y, (integer::between(1,200,_), backend_random::random(60.0, 90.0, Y)), _Ys),\n",
    "findall(Z, (integer::between(1,200,_), backend_random::random(75.0, 105.0, Z)), _Zs),\n",
    "_Data = [type-boxplot, title-'Box plot', x-[_Xs,_Ys,_Zs], positions-[2, 4, 6], widths-1.5, patch_artist-true, showmeans-false, showfliers-false]."
   ]
  },
  {
   "cell_type": "code",
   "execution_count": null,
   "id": "ed5e8389",
   "metadata": {
    "vscode": {
     "languageId": "logtalk"
    }
   },
   "outputs": [],
   "source": [
    "%%data\n",
    "Data = [type-errorbar, title-'Error bar', x-[2,4,6], y-[3.6,5.0,4.2], yerr-[0.9,1.2,0.5], fmt-o, linewidth-2, capsize-6, xlim-[left-0, right-8], xticks-[ticks-[1,2,3,4,5,6,7,8]], ylim-[bottom-0, top-8], yticks-[ticks-[1,2,3,4,5,6,7,8]]]."
   ]
  },
  {
   "cell_type": "code",
   "execution_count": null,
   "id": "6c978ba8",
   "metadata": {
    "vscode": {
     "languageId": "logtalk"
    }
   },
   "outputs": [],
   "source": [
    "%%data\n",
    "logtalk_load(random(loader)),\n",
    "findall(X, (integer::between(1,5000,_), backend_random::random(-2.0, 2.0, X)), _Xs),\n",
    "findall(Y, (list::member(X,_Xs), backend_random::random(-3.0, 3.0, Z), Y is 1.2*X + Z/3), _Ys),\n",
    "_Data = [type-hexbin, title-'Hexbin plot', x-_Xs, y-_Ys, gridsize-20, xlim-[left-(-2), right-2], ylim-[bottom-(-3), top-3]]."
   ]
  },
  {
   "cell_type": "code",
   "execution_count": null,
   "id": "bcdf5e02",
   "metadata": {
    "vscode": {
     "languageId": "logtalk"
    }
   },
   "outputs": [],
   "source": [
    "%%data\n",
    "logtalk_load(random(loader)),\n",
    "findall(X, (integer::between(1,5000,_), backend_random::random(X1), X1 =\\= 0.0, backend_random::random(X2), X is sqrt(-2.0 * log(X1)) * cos(2.0*pi*X2)), _Xs),\n",
    "findall(Y, (list::member(X,_Xs), backend_random::random(Z1), Z1 =\\= 0.0, backend_random::random(Z2), Z is sqrt(-2.0 * log(Z1)) * cos(2.0*pi*Z2), Y is 1.2*X + Z/3), _Ys),\n",
    "float::sequence(-3.0,3.0,0.1,_Range,_),\n",
    "_Data = [type-hist2d, title-'Hist2d plot', x-_Xs, y-_Ys, bins-[_Range, _Range], xlim-[left-(-2), right-2], ylim-[bottom-(-3), top-3]]."
   ]
  },
  {
   "cell_type": "code",
   "execution_count": null,
   "id": "cc61d0f1",
   "metadata": {
    "vscode": {
     "languageId": "logtalk"
    }
   },
   "outputs": [],
   "source": [
    "%%data\n",
    "logtalk_load(random(loader)),\n",
    "findall(X, (integer::between(1,5000,_), backend_random::random(-2.0, 2.0, X)), _Xs),\n",
    "_Data = [type-ecdf, title-'ECDF plot', x-_Xs]."
   ]
  },
  {
   "cell_type": "code",
   "execution_count": null,
   "id": "92ad3301",
   "metadata": {
    "vscode": {
     "languageId": "logtalk"
    }
   },
   "outputs": [],
   "source": [
    "%%data\n",
    "logtalk_load(random(loader)),\n",
    "integer::sequence(-2, 2, _Is),\n",
    "findall(F, (list::member(I,_Is), F is cos(I**2)), _Fs),\n",
    "Data = [type-polar, title-[label-'Polar plot', fontweight-bold], theta-_Is, r-_Fs]."
   ]
  },
  {
   "cell_type": "markdown",
   "id": "de78f564",
   "metadata": {},
   "source": [
    "## Input Widgets\n",
    "\n",
    "**Experimental.** Widgets are rendered in the notebook using HTML/JavaScript. Currently, the kernel uses a web server to handle the widget callbacks that update the widget state. This webserver is started automatically by the kernel. By default, it uses `127.0.0.1` as the IP address and the first available port in the range 8900-8999. The IP and port number can be queried using the `jupyter_widgets::webserver/2` predicate (e.g., to set up port forwarding). Both IP and port range can be customized in the kernel configuration file, `logtalk_kernel_config.py`, saved in the same directory as the notebooks.\n",
    "\n",
    "The `jupyter_widgets` object provide a set of predicates for creating and deleting input widgets, querying the widgets values, and debugging widgets. The widget identifiers (atoms) must be unique. When a code cell that creates a widget may be run repeatedly, delete the widget (using the `remove_widget/1` or `remove_all_widgets/0` predicates) before recreating it."
   ]
  },
  {
   "cell_type": "markdown",
   "id": "15da64e5",
   "metadata": {},
   "source": [
    "### Text Input Widget"
   ]
  },
  {
   "cell_type": "code",
   "execution_count": null,
   "id": "13752bd5",
   "metadata": {
    "vscode": {
     "languageId": "logtalk"
    }
   },
   "outputs": [],
   "source": [
    "jupyter_widgets::create_text_input(name_input, 'Enter your name:', 'John Doe')."
   ]
  },
  {
   "cell_type": "code",
   "execution_count": null,
   "id": "71971982",
   "metadata": {
    "vscode": {
     "languageId": "logtalk"
    }
   },
   "outputs": [],
   "source": [
    "jupyter_widgets::get_widget_value(name_input, Name)."
   ]
  },
  {
   "cell_type": "markdown",
   "id": "91cbab99",
   "metadata": {},
   "source": [
    "### Password Input Widget"
   ]
  },
  {
   "cell_type": "code",
   "execution_count": null,
   "id": "a55e012e",
   "metadata": {
    "vscode": {
     "languageId": "logtalk"
    }
   },
   "outputs": [],
   "source": [
    "jupyter_widgets::create_password_input(password_input, 'Enter your password:')."
   ]
  },
  {
   "cell_type": "code",
   "execution_count": null,
   "id": "39ee0859",
   "metadata": {
    "vscode": {
     "languageId": "logtalk"
    }
   },
   "outputs": [],
   "source": [
    "jupyter_widgets::get_widget_value(password_input, Name)."
   ]
  },
  {
   "cell_type": "markdown",
   "id": "2e0c3e97",
   "metadata": {},
   "source": [
    "### Number Input Widget"
   ]
  },
  {
   "cell_type": "code",
   "execution_count": null,
   "id": "ab3d4360",
   "metadata": {
    "vscode": {
     "languageId": "logtalk"
    }
   },
   "outputs": [],
   "source": [
    "jupyter_widgets::create_number_input(age_input, 'Enter your age:', 0, 120, 1, 25)."
   ]
  },
  {
   "cell_type": "code",
   "execution_count": null,
   "id": "c48ebb3f",
   "metadata": {
    "vscode": {
     "languageId": "logtalk"
    }
   },
   "outputs": [],
   "source": [
    "jupyter_widgets::get_widget_value(age_input, Age)."
   ]
  },
  {
   "cell_type": "code",
   "execution_count": null,
   "id": "21c5e687",
   "metadata": {
    "vscode": {
     "languageId": "logtalk"
    }
   },
   "outputs": [],
   "source": [
    "jupyter_widgets::create_number_input(x_input, 'Enter x:', 0.0, 10.0, 0.02, 5.0)."
   ]
  },
  {
   "cell_type": "code",
   "execution_count": null,
   "id": "9cc5b3b5",
   "metadata": {
    "vscode": {
     "languageId": "logtalk"
    }
   },
   "outputs": [],
   "source": [
    "jupyter_widgets::get_widget_value(x_input, X)."
   ]
  },
  {
   "cell_type": "markdown",
   "id": "eeb9ffc8",
   "metadata": {},
   "source": [
    "### Slider Widget"
   ]
  },
  {
   "cell_type": "code",
   "execution_count": null,
   "id": "5bce1b29",
   "metadata": {
    "vscode": {
     "languageId": "logtalk"
    }
   },
   "outputs": [],
   "source": [
    "jupyter_widgets::create_slider(temperature_slider, 'Temperature (°C)', -10, 40, 5, 20)."
   ]
  },
  {
   "cell_type": "code",
   "execution_count": null,
   "id": "d42656aa",
   "metadata": {
    "vscode": {
     "languageId": "logtalk"
    }
   },
   "outputs": [],
   "source": [
    "jupyter_widgets::get_widget_value(temperature_slider, Temperature)."
   ]
  },
  {
   "cell_type": "code",
   "execution_count": null,
   "id": "81ad7df5",
   "metadata": {
    "vscode": {
     "languageId": "logtalk"
    }
   },
   "outputs": [],
   "source": [
    "jupyter_widgets::create_slider(pressure_slider, 'Pressure (kPa)', -10.5, 25.5, 0.1, 18.0)."
   ]
  },
  {
   "cell_type": "code",
   "execution_count": null,
   "id": "cdba371a",
   "metadata": {
    "vscode": {
     "languageId": "logtalk"
    }
   },
   "outputs": [],
   "source": [
    "jupyter_widgets::get_widget_value(pressure_slider, Pressure)."
   ]
  },
  {
   "cell_type": "markdown",
   "id": "a6cf4bca",
   "metadata": {},
   "source": [
    "### Date Widget"
   ]
  },
  {
   "cell_type": "code",
   "execution_count": null,
   "id": "10da86d1",
   "metadata": {
    "vscode": {
     "languageId": "logtalk"
    }
   },
   "outputs": [],
   "source": [
    "jupyter_widgets::create_date_input(birth_date_input, 'Enter your birth date:', '1990-01-01')."
   ]
  },
  {
   "cell_type": "code",
   "execution_count": null,
   "id": "1957689f",
   "metadata": {
    "vscode": {
     "languageId": "logtalk"
    }
   },
   "outputs": [],
   "source": [
    "jupyter_widgets::get_widget_value(birth_date_input, BirthDate)."
   ]
  },
  {
   "cell_type": "markdown",
   "id": "b5da3210",
   "metadata": {},
   "source": [
    "### Time Widget"
   ]
  },
  {
   "cell_type": "code",
   "execution_count": null,
   "id": "d0ed6ff6",
   "metadata": {
    "vscode": {
     "languageId": "logtalk"
    }
   },
   "outputs": [],
   "source": [
    "jupyter_widgets::create_time_input(meeting_time_input, 'Enter meeting time:', '14:00')."
   ]
  },
  {
   "cell_type": "code",
   "execution_count": null,
   "id": "0765f6fc",
   "metadata": {
    "vscode": {
     "languageId": "logtalk"
    }
   },
   "outputs": [],
   "source": [
    "\n",
    "jupyter_widgets::get_widget_value(meeting_time_input, MeetingTime)."
   ]
  },
  {
   "cell_type": "markdown",
   "id": "5325afdd",
   "metadata": {},
   "source": [
    "### Email Widget"
   ]
  },
  {
   "cell_type": "code",
   "execution_count": null,
   "id": "693c82ee",
   "metadata": {
    "vscode": {
     "languageId": "logtalk"
    }
   },
   "outputs": [],
   "source": [
    "jupyter_widgets::create_email_input(email_input, 'Enter your email:', 'john.doe@example.com', '.+@.+\\\\..+')."
   ]
  },
  {
   "cell_type": "code",
   "execution_count": null,
   "id": "c53a2820",
   "metadata": {
    "vscode": {
     "languageId": "logtalk"
    }
   },
   "outputs": [],
   "source": [
    "jupyter_widgets::get_widget_value(email_input, Email)."
   ]
  },
  {
   "cell_type": "markdown",
   "id": "66fdd160",
   "metadata": {},
   "source": [
    "### URL Widget"
   ]
  },
  {
   "cell_type": "code",
   "execution_count": null,
   "id": "f70fd0b2",
   "metadata": {
    "vscode": {
     "languageId": "logtalk"
    }
   },
   "outputs": [],
   "source": [
    "jupyter_widgets::create_url_input(url_input, 'Enter a URL:', 'https://www.example.com', 'https?://.+')."
   ]
  },
  {
   "cell_type": "code",
   "execution_count": null,
   "id": "cf81f698",
   "metadata": {
    "vscode": {
     "languageId": "logtalk"
    }
   },
   "outputs": [],
   "source": [
    "jupyter_widgets::get_widget_value(url_input, URL)."
   ]
  },
  {
   "cell_type": "markdown",
   "id": "91ad5d99",
   "metadata": {},
   "source": [
    "### File Widget"
   ]
  },
  {
   "cell_type": "code",
   "execution_count": null,
   "id": "e76848b7",
   "metadata": {
    "vscode": {
     "languageId": "logtalk"
    }
   },
   "outputs": [],
   "source": [
    "jupyter_widgets::create_file_input(file_input, 'Select a file:')."
   ]
  },
  {
   "cell_type": "code",
   "execution_count": null,
   "id": "89818399",
   "metadata": {
    "vscode": {
     "languageId": "logtalk"
    }
   },
   "outputs": [],
   "source": [
    "jupyter_widgets::get_widget_value(file_input, File)."
   ]
  },
  {
   "cell_type": "markdown",
   "id": "4c883fae",
   "metadata": {},
   "source": [
    "### Color Widget"
   ]
  },
  {
   "cell_type": "code",
   "execution_count": null,
   "id": "5c692372",
   "metadata": {
    "vscode": {
     "languageId": "logtalk"
    }
   },
   "outputs": [],
   "source": [
    "jupyter_widgets::create_color_input(color_input, 'Choose a color:', '#ff0000')."
   ]
  },
  {
   "cell_type": "code",
   "execution_count": null,
   "id": "e6bf0423",
   "metadata": {
    "vscode": {
     "languageId": "logtalk"
    }
   },
   "outputs": [],
   "source": [
    "jupyter_widgets::get_widget_value(color_input, Color)."
   ]
  },
  {
   "cell_type": "markdown",
   "id": "a43b0ca1",
   "metadata": {},
   "source": [
    "### Dropdown Widget\n",
    "\n",
    "Create a dropdown selection:"
   ]
  },
  {
   "cell_type": "code",
   "execution_count": null,
   "id": "7bb372c6",
   "metadata": {
    "vscode": {
     "languageId": "logtalk"
    }
   },
   "outputs": [],
   "source": [
    "jupyter_widgets::create_dropdown(color_select, 'Choose a color:', [red, green, blue, yellow, purple])."
   ]
  },
  {
   "cell_type": "code",
   "execution_count": null,
   "id": "ca54eee9",
   "metadata": {
    "vscode": {
     "languageId": "logtalk"
    }
   },
   "outputs": [],
   "source": [
    "jupyter_widgets::get_widget_value(color_select, Color)."
   ]
  },
  {
   "cell_type": "markdown",
   "id": "3e458668",
   "metadata": {},
   "source": [
    "### Checkbox Widget"
   ]
  },
  {
   "cell_type": "code",
   "execution_count": null,
   "id": "9be4dab9",
   "metadata": {
    "vscode": {
     "languageId": "logtalk"
    }
   },
   "outputs": [],
   "source": [
    "jupyter_widgets::create_checkbox(newsletter_checkbox, 'Subscribe to newsletter', false)."
   ]
  },
  {
   "cell_type": "code",
   "execution_count": null,
   "id": "d228fb2a",
   "metadata": {
    "vscode": {
     "languageId": "logtalk"
    }
   },
   "outputs": [],
   "source": [
    "jupyter_widgets::get_widget_value(newsletter_checkbox, Color)."
   ]
  },
  {
   "cell_type": "markdown",
   "id": "53ece6fd",
   "metadata": {},
   "source": [
    "### Button Widget"
   ]
  },
  {
   "cell_type": "code",
   "execution_count": null,
   "id": "4721f91e",
   "metadata": {
    "vscode": {
     "languageId": "logtalk"
    }
   },
   "outputs": [],
   "source": [
    "jupyter_widgets::create_button(action_button, 'Click Me!')."
   ]
  },
  {
   "cell_type": "code",
   "execution_count": null,
   "id": "d0b7472d",
   "metadata": {
    "vscode": {
     "languageId": "logtalk"
    }
   },
   "outputs": [],
   "source": [
    "jupyter_widgets::get_widget_value(action_button, Clicked)."
   ]
  },
  {
   "cell_type": "markdown",
   "id": "9948faa0",
   "metadata": {},
   "source": [
    "### Generic Widget\n",
    "\n",
    "The `jupyter_widgets::create_input/3` predicate allows creating a generic HTML input widget with custom attributes. Consult a HTML reference for the available attributes per input type."
   ]
  },
  {
   "cell_type": "code",
   "execution_count": null,
   "id": "ebc0834a",
   "metadata": {
    "vscode": {
     "languageId": "logtalk"
    }
   },
   "outputs": [],
   "source": [
    "jupyter_widgets::create_input(widget_id, 'Enter a salutation:', [type-text, placeholder-'Hello World!', style-'font-size: 20px; color: blue;'])."
   ]
  },
  {
   "cell_type": "code",
   "execution_count": null,
   "id": "e3f6fe7c",
   "metadata": {
    "vscode": {
     "languageId": "logtalk"
    }
   },
   "outputs": [],
   "source": [
    "jupyter_widgets::get_widget_value(widget_id, Value)."
   ]
  },
  {
   "cell_type": "markdown",
   "id": "f6709849",
   "metadata": {},
   "source": [
    "### List all Widgets"
   ]
  },
  {
   "cell_type": "code",
   "execution_count": null,
   "id": "2d63c527",
   "metadata": {
    "vscode": {
     "languageId": "logtalk"
    }
   },
   "outputs": [],
   "source": [
    "jupyter_widgets::widgets."
   ]
  },
  {
   "cell_type": "markdown",
   "id": "7ed07db7",
   "metadata": {},
   "source": [
    "## Input Forms\n",
    "\n",
    "**Experimental.** For more complex data collection, we can use input forms instead of individual widgets. Forms are rendered in the notebook using HTML/JavaScript and use the same callback web server used by the widgets to handle the form submissions.\n",
    "\n",
    "The `jupyter_forms` object provides predicates for creating and managing HTML forms. The form identifiers (atoms) must be unique. When a code cell that creates a form may be run repeatedly, delete the form (using the `remove_form/1` or `remove_all_forms/0` predicates) before recreating it."
   ]
  },
  {
   "cell_type": "markdown",
   "id": "1d47a56f",
   "metadata": {},
   "source": [
    "Create a form with multiple field types:"
   ]
  },
  {
   "cell_type": "code",
   "execution_count": null,
   "id": "b463e5e9",
   "metadata": {
    "vscode": {
     "languageId": "logtalk"
    }
   },
   "outputs": [],
   "source": [
    "jupyter_forms::create_input_form(contact_form, [\n",
    "    text_field(name, 'Full Name:', 'John Doe'),\n",
    "    email_field(email, 'Email Address:', 'jdoe@example.com', '.+@.+\\\\..+'),\n",
    "    number_field(age, 'Age:', 0, 120, 1, 20),\n",
    "    dropdown_field(country, 'Country:', [portugal, usa, canada, uk, germany, france]),\n",
    "    textarea_field(message, 'Message:', '', 4),\n",
    "    checkbox_field(newsletter, 'Subscribe to newsletter:', false)\n",
    "], [\n",
    "    title('Contact Information'),\n",
    "    submit_label('Submit Form'),\n",
    "    cancel_label('Clear Form')\n",
    "])."
   ]
  },
  {
   "cell_type": "markdown",
   "id": "78993f39",
   "metadata": {},
   "source": [
    "Retrieve the form data after submission:"
   ]
  },
  {
   "cell_type": "code",
   "execution_count": null,
   "id": "71e74956",
   "metadata": {
    "vscode": {
     "languageId": "logtalk"
    }
   },
   "outputs": [],
   "source": [
    "jupyter_forms::get_form_data(contact_form, ContactData)."
   ]
  },
  {
   "cell_type": "markdown",
   "id": "761f0dc5",
   "metadata": {},
   "source": [
    "Create a form that collects survey data:"
   ]
  },
  {
   "cell_type": "code",
   "execution_count": null,
   "id": "4026c839",
   "metadata": {
    "vscode": {
     "languageId": "logtalk"
    }
   },
   "outputs": [],
   "source": [
    "jupyter_forms::create_input_form(survey_form, [\n",
    "    text_field(participant_id, 'Participant ID:', ''),\n",
    "    dropdown_field(experience, 'Programming Experience:', [beginner, intermediate, advanced]),\n",
    "    number_field(years_coding, 'Years of Coding:', 0, 50, 1, 1),\n",
    "    dropdown_field(favorite_language, 'Favorite Language:', [python, java, javascript, prolog, logtalk]),\n",
    "    textarea_field(comments, 'Additional Comments:', '', 3)\n",
    "], [\n",
    "    title('Programming Survey'),\n",
    "    submit_label('Submit Survey')\n",
    "])."
   ]
  },
  {
   "cell_type": "code",
   "execution_count": null,
   "id": "826e1086",
   "metadata": {
    "vscode": {
     "languageId": "logtalk"
    }
   },
   "outputs": [],
   "source": [
    "% Process survey results\n",
    "jupyter_forms::get_form_data(survey_form, SurveyData)."
   ]
  },
  {
   "cell_type": "markdown",
   "id": "49dc1e89-b8b4-4698-a615-424e1a166419",
   "metadata": {},
   "source": [
    "## Printing Terms\n",
    "\n",
    "Complex compound terms can be displayed as a tree by using the `%%tree` cell magic:"
   ]
  },
  {
   "cell_type": "code",
   "execution_count": null,
   "id": "21bd5f19-ea65-4daa-9b6a-c4d7dbba9ec4",
   "metadata": {
    "vscode": {
     "languageId": "logtalk"
    }
   },
   "outputs": [],
   "source": [
    "%%tree\n",
    "a(1, b(2, c(3, 4)))."
   ]
  },
  {
   "cell_type": "markdown",
   "id": "8cfaa314",
   "metadata": {},
   "source": [
    "## Cell and Line Magic\n",
    "\n",
    "Help on available cell and line magic can be printed using either the `jupyter::magic` query or by using the `%magic` line magic:"
   ]
  },
  {
   "cell_type": "code",
   "execution_count": null,
   "id": "40a56623",
   "metadata": {
    "vscode": {
     "languageId": "logtalk"
    }
   },
   "outputs": [],
   "source": [
    "%magic"
   ]
  },
  {
   "cell_type": "markdown",
   "id": "dd941d61",
   "metadata": {},
   "source": [
    "## Introspection"
   ]
  },
  {
   "cell_type": "markdown",
   "id": "26ffa7b6",
   "metadata": {},
   "source": [
    "- Various `jupyter` predicates\n",
    "    - Access documentation with a help predicate"
   ]
  },
  {
   "cell_type": "code",
   "execution_count": null,
   "id": "1b7fc919",
   "metadata": {
    "scrolled": true,
    "tags": [],
    "vscode": {
     "languageId": "logtalk"
    }
   },
   "outputs": [],
   "source": [
    "jupyter::help."
   ]
  },
  {
   "cell_type": "markdown",
   "id": "fde4e5ea",
   "metadata": {},
   "source": [
    "- Various `juypter` (mostly convenience) predicates\n",
    "- Difficult to remember all of them\n",
    "    - In addition to completion and inspection: predicate to print all documentation"
   ]
  },
  {
   "cell_type": "markdown",
   "id": "acc61e90-a8ad-41fa-aeec-37aa4f2e05de",
   "metadata": {
    "tags": []
   },
   "source": [
    "## Jupyter\n",
    "\n",
    "- Originates from the **IPython** project\n",
    "    - Enables interactive Python development\n",
    "    - Several frontends, including a former version of **Jupyter Notebook**\n",
    "        - Web application for handling Jupyter notebooks\n",
    "        - Planned to be replaced by **JupyterLab**\n",
    "\n"
   ]
  },
  {
   "cell_type": "markdown",
   "id": "65ec5ff2",
   "metadata": {},
   "source": [
    "- *Two-process model*:\n",
    "\n",
    "    - Client process: responsible for user interaction\n",
    "    - Kernel process: handles code execution"
   ]
  },
  {
   "cell_type": "markdown",
   "id": "ad708ac3-8d47-4ee8-8171-7c786550c288",
   "metadata": {
    "tags": []
   },
   "source": [
    "## Architecture\n",
    "\n",
    "\n",
    "\n",
    "\n"
   ]
  },
  {
   "cell_type": "markdown",
   "id": "2fa42e79-c7d5-4ca6-b831-8fc7ad30adf3",
   "metadata": {
    "tags": []
   },
   "source": [
    "Kernel split in three:\n",
    "- Extends IPython kernel: **inherits** the communication with a frontend via the ZeroMQ protocol\n",
    "\n",
    "\n",
    "- Does not interpret Logtalk itself\n",
    "    - Starts an existing Logtalk instance in a **subprocess**\n",
    "        - Communicates with it according to the JSON-RPC 2.0 protocol\n",
    "    - For any code execution **request**:\n",
    "        - Sends a request message to the Logtalk server containing the **code**\n",
    "        - Terms are read from the code and handled\n",
    "    \n",
    "    \n",
    "- Make the kernel **extensible**: additional layer of a *kernel implementation* in between\n",
    "    - **Responsible** for basically all functionality (e.g. handling Logtalk **server**)\n",
    "    - For every request the kernel receives, a **method** of the implementation class is called\n",
    "    - Kernel started: loads **config** file\n",
    "        - Can contain paths to interpreter-specific Python class files\n",
    "    - By **extending** default implementation class and **overriding** methods\n",
    "        - Kernel behaviour can be adjusted\n",
    "    - Had to be done to support predicate inspection for both    \n",
    "- Configure to start a different Logtalk server"
   ]
  },
  {
   "cell_type": "markdown",
   "id": "8323263c",
   "metadata": {},
   "source": [
    "## Changing the Prolog Backend\n",
    "\n",
    "- Switch between Prolog backends on the fly\n",
    "- The previous server process is kept running\n",
    "    - When switching back, the database state has not changed\n",
    "\n",
    "Several Prolog backends are supported and shortcuts are provided to switch to them if installed:\n",
    "\n",
    "- ECLiPSe (`eclipse`)\n",
    "- GNU Prolog (`gnu`)\n",
    "- SICStus Prolog (`sicstus`)\n",
    "- SWI-Prolog (`swi`)\n",
    "- Trealla Prolog (`trealla`)\n",
    "- XVM (`xvm`)\n",
    "- YAP (`yap`)\n",
    "\n",
    "The above shortcuts assume Logtalk was installed using either one of the provided installers or by running the manual installation script (i.e. you can run e.g. Logtalk with SWI-Prolog by simply typing `swilgt` on a POSIX system or `swilgt.ps1` on a Windows system). Alternatively, that you're running Logtalk from a git clone directory with the `LOGTALKHOME` and `LOGTALKUSER` environment variables defined and pointing to the clone directory (i.e. you can run e.g. Logtalk with SWI-Prolog by simply typing `swilgt.sh` on a POSIX system). But you can always switch Prolog backends using the `jupyter::set_prolog_backend(BackendIntegrationScript)` predicate instead (e.g. `jupyter::set_prolog_backend('swilgt.sh')`)."
   ]
  },
  {
   "cell_type": "markdown",
   "id": "1ddac35f",
   "metadata": {},
   "source": [
    "## Extending the Kernel\n",
    "\n",
    "- Original Prolog only kernel was developed for SICStus Prolog and later extended to SWI-Prolog\n",
    "- Current Logtalk kernel supports those and other Prolog backends (including ECLiPSe, GNU Prolog, Trealla Prolog, XVM, and YAP)\n",
    "- Portable code except for the non-standard stream redirection details that depend on the backend\n",
    "\n",
    "    "
   ]
  },
  {
   "cell_type": "markdown",
   "id": "135ec7c8",
   "metadata": {},
   "source": [
    "- By **replacing the Logtalk server**, the Python part can easily support a different implementation\n",
    "    - Requirements: receive requests as JSON-RPC 2.0 messages, handle them, and send responses\n",
    "    - Might be possible to further extend the existing server with conditional compilation\n",
    "        - Advanced features might require significant changes"
   ]
  },
  {
   "cell_type": "markdown",
   "id": "ac2a6913",
   "metadata": {},
   "source": [
    "- By **overriding the `LogtalkKernelBaseImplementation` class**, most of the basic kernel behaviour can be adjusted"
   ]
  },
  {
   "cell_type": "markdown",
   "id": "e2b7918e",
   "metadata": {},
   "source": [
    "- Server replacement:\n",
    "    - Extend existing:\n",
    "        - Implementing **basic code execution** should not require major effort\n",
    "        - More **advanced features** might involve significant changes\n",
    "\n",
    "- Replacement of the server does not suffice?: Python extension"
   ]
  },
  {
   "cell_type": "markdown",
   "id": "1b2c2011",
   "metadata": {},
   "source": [
    "## Future Work\n",
    "\n",
    "- Support other Prolog backends (waiting on requests to their maintainers for missing functionality)"
   ]
  },
  {
   "cell_type": "markdown",
   "id": "5a9bfce9",
   "metadata": {},
   "source": [
    "- Combine strengths of several Prolog backends\n",
    "    - Kernel can be connected with multiple servers at once\n",
    "    - Reusing results for another one should be relatively easy"
   ]
  },
  {
   "cell_type": "markdown",
   "id": "2550d887",
   "metadata": {},
   "source": [
    "- Send commands to all available Logtalk servers *at once*\n",
    "    - Detect differences in the behaviour\n",
    "    - Compare the performance by using the benchmarking functionality"
   ]
  }
 ],
 "metadata": {
  "celltoolbar": "Slideshow",
  "kernelspec": {
   "display_name": "Logtalk",
   "language": "logtalk",
   "name": "logtalk_kernel"
  },
  "language_info": {
   "codemirror_mode": "logtalk",
   "file_extension": ".lgt",
   "mimetype": "text/x-logtalk",
   "name": "Logtalk"
  }
 },
 "nbformat": 4,
 "nbformat_minor": 5
}
